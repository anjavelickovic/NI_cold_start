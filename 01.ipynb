{
 "cells": [
  {
   "cell_type": "code",
   "execution_count": 1,
   "metadata": {},
   "outputs": [],
   "source": [
    "import sys\n",
    "from itertools import count\n",
    "import random\n",
    "from random import shuffle\n",
    "from typing import Tuple\n",
    "\n",
    "import pandas as pd\n",
    "import numpy as np\n",
    "import scipy\n",
    "from scipy.sparse import coo_array\n",
    "from scipy.sparse import csc_matrix\n",
    "from scipy.sparse import linalg as sLA\n",
    "import scipy.linalg as LA\n",
    "from sklearn_extra.cluster import KMedoids\n",
    "from sklearn.model_selection import train_test_split\n",
    "from sklearn.metrics import roc_auc_score\n",
    "\n",
    "_ = np.seterr(invalid='ignore')"
   ]
  },
  {
   "cell_type": "markdown",
   "metadata": {},
   "source": [
    "# Skupovi podataka sa kojima radimo su\n",
    "- deo netflixprize dataseta (https://www.kaggle.com/datasets/rishitjavia/netflix-movie-rating-dataset?resource=download)\n",
    "- lastfm dataset            (https://www.upf.edu/web/mtg/lastfm360k)\n",
    "- movie lens dataset        (https://grouplens.org/datasets/movielens/)\n",
    "\n",
    "Zbog ogranicenih racunarskih resursa posmatrali smo podskupove originalnih skupova podataka"
   ]
  },
  {
   "cell_type": "code",
   "execution_count": 2,
   "metadata": {},
   "outputs": [],
   "source": [
    "def load_dataset(dataset: str, new_product=False):\n",
    "    if dataset == 'movie_lens':\n",
    "        ratings = pd.read_csv('data/movie_lense/ratings.csv')\n",
    "        ratings = ratings.drop(columns=['timestamp'])\n",
    "        if new_product:\n",
    "            ratings.columns = ['productId', 'userId', 'rating'] \n",
    "        else:\n",
    "            ratings.columns = ['userId', 'productId', 'rating']\n",
    "    elif dataset == 'netflix':\n",
    "        ratings = pd.read_csv('data/netflix/Netflix_Dataset_Rating.csv')\n",
    "        if new_product:\n",
    "            ratings.columns = ['productId', 'rating', 'userId']\n",
    "        else:\n",
    "            ratings.columns = ['userId', 'rating', 'productId']\n",
    "    elif dataset == 'lastfm':\n",
    "        ratings = pd.read_csv('data/lastfm/usersha1-artmbid-artname-plays.tsv', sep='\\t', header=None)\n",
    "        ratings.columns = ['user_hash', 'song_hash', 'artist_name', 'num_plays']\n",
    "        ratings = ratings.drop(columns=['artist_name'])\n",
    "        if new_product:\n",
    "            ratings.columns = ['productId', 'userId', 'rating']\n",
    "        else:\n",
    "            ratings.columns = ['userId', 'productId', 'rating']\n",
    "    else:\n",
    "        raise ValueError(f'dataset {dataset} is not supported')\n",
    "    \n",
    "    return ratings\n",
    "\n"
   ]
  },
  {
   "cell_type": "code",
   "execution_count": 3,
   "metadata": {},
   "outputs": [],
   "source": [
    "def trim_dataset(ratings: pd.DataFrame, dataset: str, max_products=100_000, max_users=1400) -> pd.DataFrame:\n",
    "    if dataset == 'movie_lens':\n",
    "        most_ratings = ratings['userId'].value_counts().index\n",
    "        ratings = ratings[ratings.userId.isin(most_ratings[:max_products])]\n",
    "        most_rated = ratings['productId'].value_counts().index\n",
    "        ratings = ratings[ratings.productId.isin(most_rated[:max_users])]\n",
    "    elif dataset == 'netflix':\n",
    "        pass\n",
    "    elif dataset == 'lastfm':\n",
    "        most_ratings = ratings['userId'].value_counts().index\n",
    "        ratings = ratings[ratings.userId.isin(most_ratings[:max_products])]\n",
    "        most_rated = ratings['productId'].value_counts().index\n",
    "        ratings = ratings[ratings.productId.isin(most_rated[:max_users])]\n",
    "\n",
    "    return ratings"
   ]
  },
  {
   "cell_type": "code",
   "execution_count": 4,
   "metadata": {},
   "outputs": [],
   "source": [
    "def clean_ids(ratings: pd.DataFrame) -> pd.DataFrame:\n",
    "    usersIds = ratings.userId.unique()\n",
    "    productIds = ratings.productId.unique()\n",
    "\n",
    "    n = len(usersIds)\n",
    "    m = len(productIds)\n",
    "\n",
    "    usersIds_df = pd.DataFrame({'userId': usersIds, 'newUserId': range(n)})\n",
    "    productIds_df = pd.DataFrame({'productId': productIds, 'newProductId': range(m)})\n",
    "\n",
    "    ratings = ratings[ratings.userId.isin(usersIds)]\n",
    "    ratings = ratings[ratings.productId.isin(productIds)]\n",
    "\n",
    "    ratings = pd.merge(ratings, usersIds_df, on='userId').drop(columns=['userId'])\n",
    "    ratings = pd.merge(ratings, productIds_df, on='productId').drop(columns=['productId'])\n",
    "\n",
    "    ratings.columns = ['rating','userId', 'productId']\n",
    "    return ratings\n"
   ]
  },
  {
   "cell_type": "code",
   "execution_count": 5,
   "metadata": {},
   "outputs": [
    {
     "name": "stdout",
     "output_type": "stream",
     "text": [
      "number of ratings: 15468742\n"
     ]
    }
   ],
   "source": [
    "# Ucitavanje podataka\n",
    "dataset = 'movie_lens'    # movie_lens, netflix or lastfm\n",
    "\n",
    "ratings = load_dataset(dataset)  # add new_product=True to rate new products\n",
    "ratings = trim_dataset(ratings, dataset) # netflix will not be trimmed, if we want to rate new product change max_product=1400, max_users=100_000\n",
    "ratings = clean_ids(ratings)\n",
    "ratings = ratings.astype({'rating': float})\n",
    "\n",
    "num_representatives = 20\n",
    "print(f'number of ratings: {ratings.shape[0]}')\n"
   ]
  },
  {
   "cell_type": "code",
   "execution_count": 6,
   "metadata": {},
   "outputs": [
    {
     "data": {
      "text/html": [
       "<div>\n",
       "<style scoped>\n",
       "    .dataframe tbody tr th:only-of-type {\n",
       "        vertical-align: middle;\n",
       "    }\n",
       "\n",
       "    .dataframe tbody tr th {\n",
       "        vertical-align: top;\n",
       "    }\n",
       "\n",
       "    .dataframe thead th {\n",
       "        text-align: right;\n",
       "    }\n",
       "</style>\n",
       "<table border=\"1\" class=\"dataframe\">\n",
       "  <thead>\n",
       "    <tr style=\"text-align: right;\">\n",
       "      <th></th>\n",
       "      <th>rating</th>\n",
       "      <th>userId</th>\n",
       "      <th>productId</th>\n",
       "    </tr>\n",
       "  </thead>\n",
       "  <tbody>\n",
       "    <tr>\n",
       "      <th>0</th>\n",
       "      <td>5.0</td>\n",
       "      <td>0</td>\n",
       "      <td>0</td>\n",
       "    </tr>\n",
       "    <tr>\n",
       "      <th>1</th>\n",
       "      <td>5.0</td>\n",
       "      <td>2</td>\n",
       "      <td>0</td>\n",
       "    </tr>\n",
       "    <tr>\n",
       "      <th>2</th>\n",
       "      <td>4.0</td>\n",
       "      <td>3</td>\n",
       "      <td>0</td>\n",
       "    </tr>\n",
       "    <tr>\n",
       "      <th>3</th>\n",
       "      <td>4.0</td>\n",
       "      <td>4</td>\n",
       "      <td>0</td>\n",
       "    </tr>\n",
       "    <tr>\n",
       "      <th>4</th>\n",
       "      <td>5.0</td>\n",
       "      <td>5</td>\n",
       "      <td>0</td>\n",
       "    </tr>\n",
       "  </tbody>\n",
       "</table>\n",
       "</div>"
      ],
      "text/plain": [
       "   rating  userId  productId\n",
       "0     5.0       0          0\n",
       "1     5.0       2          0\n",
       "2     4.0       3          0\n",
       "3     4.0       4          0\n",
       "4     5.0       5          0"
      ]
     },
     "execution_count": 6,
     "metadata": {},
     "output_type": "execute_result"
    }
   ],
   "source": [
    "ratings.head()"
   ]
  },
  {
   "cell_type": "code",
   "execution_count": 7,
   "metadata": {},
   "outputs": [
    {
     "name": "stdout",
     "output_type": "stream",
     "text": [
      "nb users 100000\n",
      "nb products 1400\n",
      "data shape  (100000, 1400)\n"
     ]
    }
   ],
   "source": [
    "nb_users = len(ratings.userId.unique())\n",
    "print('nb users', nb_users)\n",
    "nb_products = len(ratings.productId.unique())\n",
    "print('nb products', nb_products)\n",
    "data = coo_array((ratings['rating'], (ratings['userId'], ratings['productId'])), shape=(nb_users, nb_products)).toarray()\n",
    "\n",
    "print('data shape ', data.shape)"
   ]
  },
  {
   "cell_type": "code",
   "execution_count": 8,
   "metadata": {},
   "outputs": [],
   "source": [
    "def get_C_X(representatives, data, ratings):\n",
    "    # for movies in representative, make C with rating, userId, productId for that movies\n",
    "    k = len(representatives)\n",
    "    nb_users = ratings['userId'].max()+1\n",
    "\n",
    "    representatives = list(representatives)\n",
    "    C = data[:, representatives]\n",
    "    \n",
    "    # C = ratings[ratings.productId.isin(representatives)]\n",
    "    # C.productId = C.productId.replace(dict(zip(representatives, count())))\n",
    "\n",
    "    # C = coo_array((C['rating'], (C['userId'], C['productId'])), shape=(nb_users, k))\n",
    "\n",
    "    X = LA.inv((C.T @ C + 0.1*np.eye(C.shape[1])))@C.T@data\n",
    "\n",
    "    return C, X"
   ]
  },
  {
   "cell_type": "markdown",
   "metadata": {},
   "source": [
    "# RBMF (Representativ Based Matrix Factorization)"
   ]
  },
  {
   "cell_type": "code",
   "execution_count": 9,
   "metadata": {},
   "outputs": [],
   "source": [
    "def get_init_P(A: np.ndarray) -> np.ndarray:\n",
    "    \"\"\"function returns permutation obtained by LU decomposition of matrix A\n",
    "\n",
    "    Args:\n",
    "        A (np.ndarray): matrix on which we do LU decompositon\n",
    "\n",
    "    Returns:\n",
    "        np.ndarray: arry of row indices in permuted matrix\n",
    "    \"\"\"\n",
    "    assert len(A.shape) == 2, \"LU decomposition is only valid for 2 dimensional arrays\"\n",
    "    n, m = A.shape\n",
    "    U = np.copy(A)\n",
    "    \n",
    "    P = np.arange(0, n)\n",
    "    # L = np.zeros_like(P)\n",
    "    for i in range(min(n, m)):\n",
    "        # get the element with max absolut value\n",
    "        column = U[i:, i]\n",
    "        max_id = i + np.abs(U[i:, i]).argmax()\n",
    "        if np.isclose(U[max_id, i], 0):\n",
    "            continue\n",
    "        \n",
    "        # perform necessary permutations to make max el on diagonal\n",
    "        P[max_id], P[i] = P[i], P[max_id]\n",
    "        U[[max_id, i]] = U[[i, max_id]]\n",
    "\n",
    "        # perform gaussian transformation\n",
    "        for j in range(i+1, n):\n",
    "            U[j] = (-U[j, i]/U[i, i])*U[i] + U[j]\n",
    "\n",
    "    return P\n"
   ]
  },
  {
   "cell_type": "code",
   "execution_count": 10,
   "metadata": {},
   "outputs": [],
   "source": [
    "def get_rbmf_representatives(k, data):\n",
    "    U, s, Vh = sLA.svds(data, k)\n",
    "\n",
    "    #print('U', U.shape)\n",
    "    #print('Vh', Vh.shape)\n",
    "    \n",
    "    V = Vh.T\n",
    "    p = get_init_P(V)\n",
    "\n",
    "    done = False\n",
    "    while not done:\n",
    "        B = V @ LA.inv(V[p[:k], :])\n",
    "        flat_index = np.abs(B).argmax()\n",
    "        i = flat_index // B.shape[0]\n",
    "        j = flat_index % B.shape[1]\n",
    "        if np.abs(B[i, j] > 1):\n",
    "            p[i], p[j] = p[j], p[i]\n",
    "        else:\n",
    "            done = True\n",
    "\n",
    "    return p[:k]"
   ]
  },
  {
   "cell_type": "markdown",
   "metadata": {},
   "source": [
    "# &rarr; Random Strategy"
   ]
  },
  {
   "cell_type": "code",
   "execution_count": 11,
   "metadata": {},
   "outputs": [],
   "source": [
    "def get_random_representatives(k, ratings):\n",
    "    productIds = ratings.productId.unique()\n",
    "    random.shuffle(productIds)\n",
    "    representatives_random = productIds[:k]\n",
    "    \n",
    "    return representatives_random"
   ]
  },
  {
   "cell_type": "markdown",
   "metadata": {},
   "source": [
    "# &rarr; Most Ratings Strategy"
   ]
  },
  {
   "cell_type": "code",
   "execution_count": 12,
   "metadata": {},
   "outputs": [],
   "source": [
    "def get_most_rated_representatives(k, ratings):\n",
    "    most_ratings = ratings['productId'].value_counts().index\n",
    "\n",
    "    representatives_most_rating = most_ratings[:k]\n",
    "\n",
    "    return representatives_most_rating"
   ]
  },
  {
   "cell_type": "markdown",
   "metadata": {},
   "source": [
    "# K-Medoids Strategy"
   ]
  },
  {
   "cell_type": "code",
   "execution_count": 13,
   "metadata": {},
   "outputs": [],
   "source": [
    "def get_cluster_representatives(k):\n",
    "    clusters = KMedoids(k, init='k-medoids++')\n",
    "    clusters.fit(data.T)\n",
    "\n",
    "    return clusters.medoid_indices_"
   ]
  },
  {
   "cell_type": "markdown",
   "metadata": {},
   "source": [
    "# Ocena dobijenih reprezentativnih uzoraka"
   ]
  },
  {
   "cell_type": "markdown",
   "metadata": {},
   "source": [
    "## coverege\n",
    "\n",
    " Coverage: the proportion of users (or items) which\n",
    "have rated the set of representative items (or have been\n",
    "rated by the representative users). This metric allows\n",
    "us to measure how widely are the user or item population being covered by the representative set as a\n",
    "whole"
   ]
  },
  {
   "cell_type": "code",
   "execution_count": 14,
   "metadata": {},
   "outputs": [],
   "source": [
    "# videti koliko korisnika ima neku ocenu (ili koliko je proizvoda ocenio bar neki \n",
    "# reprezentativan korisnik)\n",
    "\n",
    "# govori nam kolika je verovatnoca da nemam korisnih informacija u representative\n",
    "# skupu, odnosno koliko cesto moze da se desi da korisnik nije pogledao nista od\n",
    "# navedenih filmova\n",
    "\n",
    "\n",
    "def coverege(ratings, representatives):\n",
    "    \n",
    "    k = len(representatives)\n",
    "    users = pd.DataFrame({'userId': ratings['userId'].unique()})\n",
    "    count = 0\n",
    "\n",
    "    representative_ratings = ratings[ratings.productId.isin(representatives)]\n",
    "    num_representative_ratings = representative_ratings.userId.value_counts()\n",
    "\n",
    "    num_representative_ratings = pd.DataFrame(\n",
    "        {\n",
    "            'userId': num_representative_ratings.index,\n",
    "            'numRatings': num_representative_ratings.values\n",
    "        })\n",
    "\n",
    "    user_data = pd.merge(users, num_representative_ratings, how='left', on=['userId']).fillna(0)\n",
    "    \n",
    "    \n",
    "    return (user_data.numRatings > 0).mean()"
   ]
  },
  {
   "cell_type": "markdown",
   "metadata": {},
   "source": [
    "# diversity \n",
    "\n",
    "Diversity:the proportion of users (or items) which\n",
    "have rated less than 10% of the representative items\n",
    "(or have been rated by less than 10% of the represen-\n",
    "tative users). This metric reflects how much unique\n",
    "information are carried by each representative"
   ]
  },
  {
   "cell_type": "code",
   "execution_count": 15,
   "metadata": {},
   "outputs": [],
   "source": [
    "# za svakog korisnika naci broj ocenjenih reprezentaativnih itema\n",
    "# videti koliko ih je ocenilo manje od 10%\n",
    "\n",
    "def diversity(ratings, representatives):\n",
    "    k = len(representatives)\n",
    "    users = pd.DataFrame({'userId': ratings['userId'].unique()})\n",
    "    count = 0\n",
    "\n",
    "    representative_ratings = ratings[ratings.productId.isin(representatives)]\n",
    "    num_representative_ratings = representative_ratings.userId.value_counts()\n",
    "\n",
    "    num_representative_ratings = pd.DataFrame(\n",
    "        {\n",
    "            'userId': num_representative_ratings.index,\n",
    "            'numRatings': num_representative_ratings.values\n",
    "        })\n",
    "\n",
    "    user_data = pd.merge(users, num_representative_ratings, how='left', on=['userId']).fillna(0)\n",
    "    \n",
    "    \n",
    "    return ((user_data.numRatings < 0.1*k)).mean()\n",
    "\n",
    "# na primer ukoliko je svaki korisnik ocenio samo mali broj itema\n",
    "# ili su neki itemi beskorisni (npr niko ne ocenjuje neki film jer ga niko ne gleda)\n",
    "# ili smo pronasli male grupice filmova koji karakterisu korisnike\n",
    "\n",
    "# cinjenica da neko pogledao good will hunting mnogo manje verovatno govori o osobi od \n",
    "# cinjenice da je pogledala podmornica potemkin (crno beli nemi film)"
   ]
  },
  {
   "cell_type": "code",
   "execution_count": 16,
   "metadata": {},
   "outputs": [],
   "source": [
    "k = num_representatives\n",
    "representatives_random = get_random_representatives(k=k, ratings=ratings)\n",
    "representatives_most_rating = get_most_rated_representatives(k=k,ratings=ratings)\n",
    "representatives_cluster = get_cluster_representatives(k=k)\n",
    "representatives_rbmf = get_rbmf_representatives(k=k,data=data)"
   ]
  },
  {
   "cell_type": "code",
   "execution_count": 17,
   "metadata": {},
   "outputs": [
    {
     "name": "stdout",
     "output_type": "stream",
     "text": [
      "coverege random 0.73096\n",
      "coverege most rating 0.98691\n",
      "coverege cluster 0.91346\n",
      "coverege rbmf 0.98031\n"
     ]
    }
   ],
   "source": [
    "print('coverege random', coverege(ratings, representatives_random))\n",
    "print('coverege most rating', coverege(ratings, representatives_most_rating))\n",
    "print('coverege cluster', coverege(ratings, representatives_cluster))\n",
    "print('coverege rbmf', coverege(ratings, representatives_rbmf))"
   ]
  },
  {
   "cell_type": "code",
   "execution_count": 18,
   "metadata": {},
   "outputs": [
    {
     "name": "stdout",
     "output_type": "stream",
     "text": [
      "diversity random 0.58379\n",
      "diversity most rating 0.03834\n",
      "diversity cluster 0.2633\n",
      "diversity rbmf 0.07383\n"
     ]
    }
   ],
   "source": [
    "print('diversity random', diversity(ratings, representatives_random))\n",
    "print('diversity most rating', diversity(ratings, representatives_most_rating))\n",
    "print('diversity cluster', diversity(ratings, representatives_cluster))\n",
    "print('diversity rbmf', diversity(ratings, representatives_rbmf))"
   ]
  },
  {
   "cell_type": "markdown",
   "metadata": {},
   "source": [
    "# Koriscenje dobijenih modela za preporuke"
   ]
  },
  {
   "cell_type": "markdown",
   "metadata": {},
   "source": [
    "### priprema podataka\n",
    "\n",
    "Koristimo skup podataka podeljen na trening i validaciju u odnosu tom i tom.\n",
    "Pratimo tri metrike\n"
   ]
  },
  {
   "cell_type": "code",
   "execution_count": 19,
   "metadata": {},
   "outputs": [
    {
     "data": {
      "text/html": [
       "<div>\n",
       "<style scoped>\n",
       "    .dataframe tbody tr th:only-of-type {\n",
       "        vertical-align: middle;\n",
       "    }\n",
       "\n",
       "    .dataframe tbody tr th {\n",
       "        vertical-align: top;\n",
       "    }\n",
       "\n",
       "    .dataframe thead th {\n",
       "        text-align: right;\n",
       "    }\n",
       "</style>\n",
       "<table border=\"1\" class=\"dataframe\">\n",
       "  <thead>\n",
       "    <tr style=\"text-align: right;\">\n",
       "      <th></th>\n",
       "      <th>rating</th>\n",
       "      <th>userId</th>\n",
       "      <th>productId</th>\n",
       "    </tr>\n",
       "  </thead>\n",
       "  <tbody>\n",
       "    <tr>\n",
       "      <th>0</th>\n",
       "      <td>5.0</td>\n",
       "      <td>0</td>\n",
       "      <td>0</td>\n",
       "    </tr>\n",
       "    <tr>\n",
       "      <th>1</th>\n",
       "      <td>5.0</td>\n",
       "      <td>2</td>\n",
       "      <td>0</td>\n",
       "    </tr>\n",
       "    <tr>\n",
       "      <th>2</th>\n",
       "      <td>4.0</td>\n",
       "      <td>3</td>\n",
       "      <td>0</td>\n",
       "    </tr>\n",
       "    <tr>\n",
       "      <th>3</th>\n",
       "      <td>4.0</td>\n",
       "      <td>4</td>\n",
       "      <td>0</td>\n",
       "    </tr>\n",
       "    <tr>\n",
       "      <th>4</th>\n",
       "      <td>5.0</td>\n",
       "      <td>5</td>\n",
       "      <td>0</td>\n",
       "    </tr>\n",
       "  </tbody>\n",
       "</table>\n",
       "</div>"
      ],
      "text/plain": [
       "   rating  userId  productId\n",
       "0     5.0       0          0\n",
       "1     5.0       2          0\n",
       "2     4.0       3          0\n",
       "3     4.0       4          0\n",
       "4     5.0       5          0"
      ]
     },
     "execution_count": 19,
     "metadata": {},
     "output_type": "execute_result"
    }
   ],
   "source": [
    "k = num_representatives\n",
    "ratings.head()"
   ]
  },
  {
   "cell_type": "code",
   "execution_count": 20,
   "metadata": {},
   "outputs": [
    {
     "name": "stdout",
     "output_type": "stream",
     "text": [
      "nb users train 80000\n",
      "nb movies train 1400\n",
      "nb users test 20000\n",
      "nb movies test 1400\n"
     ]
    }
   ],
   "source": [
    "# podela skupa na trening i test skup\n",
    "usersIds = ratings.userId.unique()\n",
    "random.shuffle(usersIds)\n",
    "\n",
    "n = len(usersIds)\n",
    "train_size = round(n*0.8)\n",
    "test_size = round(n*0.2)\n",
    "\n",
    "usersIds_train = usersIds[:train_size]\n",
    "usersIds_train_df = pd.DataFrame({'userId': usersIds_train, 'newId': range(train_size)})\n",
    "\n",
    "usersIds_test = usersIds[train_size:]\n",
    "usersIds_test_df = pd.DataFrame({'userId': usersIds_test, 'newId': range(test_size)})\n",
    "\n",
    "ratings_train = ratings[ratings.userId.isin(usersIds_train)]\n",
    "ratings_train = pd.merge(ratings_train, usersIds_train_df, on='userId').drop(columns=['userId'])\n",
    "ratings_train.columns = ['rating', 'productId', 'userId']\n",
    "\n",
    "ratings_test = ratings[ratings.userId.isin(usersIds_test)]\n",
    "ratings_test = pd.merge(ratings_test, usersIds_test_df, on='userId').drop(columns=['userId'])\n",
    "ratings_test.columns = ['rating','productId', 'userId']\n",
    "\n",
    "\n",
    "nb_users_train = ratings_train.userId.max()+1\n",
    "print('nb users train', nb_users_train)\n",
    "nb_movies_train = ratings_train.productId.max()+1\n",
    "print('nb movies train', nb_movies_train)\n",
    "\n",
    "nb_users_test = ratings_test.userId.max()+1\n",
    "print('nb users test', nb_users_test)\n",
    "nb_movies_test = ratings_test.productId.max()+1\n",
    "print('nb movies test', nb_movies_test)\n",
    "\n",
    "\n",
    "data_train = coo_array((ratings_train['rating'], (ratings_train['userId'], ratings_train['productId'])), shape=(nb_users_train, nb_movies_train)).toarray()\n",
    "data_test = coo_array((ratings_test['rating'], (ratings_test['userId'], ratings_test['productId'])), shape=(nb_users_test, nb_movies_test)).toarray()\n",
    "\n"
   ]
  },
  {
   "cell_type": "code",
   "execution_count": 21,
   "metadata": {},
   "outputs": [
    {
     "name": "stdout",
     "output_type": "stream",
     "text": [
      "userId train size:  80000\n",
      "userId test size:  20000\n",
      "ratings train size:  12361871\n",
      "ratings test size:  3106871\n"
     ]
    }
   ],
   "source": [
    "print('userId train size: ', len(usersIds_train))\n",
    "print('userId test size: ', len(usersIds_test))\n",
    "print('ratings train size: ', len(ratings_train))\n",
    "print('ratings test size: ', len(ratings_test))"
   ]
  },
  {
   "cell_type": "code",
   "execution_count": 22,
   "metadata": {},
   "outputs": [],
   "source": [
    "from collections import namedtuple\n",
    "Predictions = namedtuple('Predictions',\n",
    "    [\n",
    "        'rbmf',\n",
    "        'random',\n",
    "        'k_medoid',\n",
    "        'most_rated'\n",
    "    ]\n",
    ")\n"
   ]
  },
  {
   "cell_type": "code",
   "execution_count": 23,
   "metadata": {},
   "outputs": [],
   "source": [
    "# RBMF\n",
    "\n",
    "# dobiti representatives\n",
    "representatives_rbmf = get_rbmf_representatives(k=k, data=data_train)\n",
    "\n",
    "# dobiti X\n",
    "_, x_rbmf = get_C_X(representatives=representatives_rbmf, data=data_train, ratings=ratings_train)\n",
    "\n",
    "# dobiti predvidjanje ocena\n",
    "# data_test_predicted = data_test[:, representatives] @ X <- ovo su rejtinzi\n",
    "data_test_predicted_rbmf = data_test[:, representatives_rbmf] @ x_rbmf"
   ]
  },
  {
   "cell_type": "code",
   "execution_count": 24,
   "metadata": {},
   "outputs": [],
   "source": [
    "# Random Sampling\n",
    "\n",
    "# dobiti representatives\n",
    "representatives_random = get_random_representatives(k=k, ratings=ratings_train)\n",
    "\n",
    "# dobiti X\n",
    "_, x_random = get_C_X(representatives=representatives_random, data=data_train, ratings=ratings_train)\n",
    "\n",
    "# dobiti predvidjanje ocena\n",
    "data_test_predicted_random = data_test[:, representatives_random] @ x_random"
   ]
  },
  {
   "cell_type": "code",
   "execution_count": 25,
   "metadata": {},
   "outputs": [],
   "source": [
    "# Most Rated\n",
    "\n",
    "# dobiti representatives\n",
    "representatives_most_rating = get_most_rated_representatives(k=k,ratings=ratings_train)\n",
    "\n",
    "# dobiti X\n",
    "_, x_most_rating = get_C_X(representatives=representatives_most_rating, data=data_train, ratings=ratings_train)\n",
    "\n",
    "# dobiti predvidjanje ocena\n",
    "data_test_predicted_most_rating = data_test[:, representatives_most_rating] @ x_most_rating"
   ]
  },
  {
   "cell_type": "code",
   "execution_count": 26,
   "metadata": {},
   "outputs": [],
   "source": [
    "# K - medoid\n",
    "\n",
    "# dobiti representatives\n",
    "representatives_cluster = get_cluster_representatives(k=k)\n",
    "\n",
    "# dobiti X\n",
    "_, x_cluster = get_C_X(representatives=representatives_cluster, data=data_train, ratings=ratings_train)\n",
    "\n",
    "# dobiti predvidjanje ocena\n",
    "data_test_predicted_cluster = data_test[:, representatives_cluster] @ x_cluster"
   ]
  },
  {
   "cell_type": "code",
   "execution_count": 27,
   "metadata": {},
   "outputs": [],
   "source": [
    "data_predicted = Predictions(rbmf=data_test_predicted_rbmf, random=data_test_predicted_random, k_medoid=data_test_predicted_cluster, most_rated=data_test_predicted_most_rating)"
   ]
  },
  {
   "cell_type": "markdown",
   "metadata": {},
   "source": [
    "### Prec @ 10\n",
    "\n",
    "- uzeti najvecih 10 rejtinga koje smo predivideli i videti koliko tu ima zaista dobrih predloga (tacnije rejting >= 4)"
   ]
  },
  {
   "cell_type": "code",
   "execution_count": 28,
   "metadata": {},
   "outputs": [],
   "source": [
    "# y_predicted odozgo za ovo koristiti \n",
    "# imamo matricu (userId, productId) rejtinga za svakog userId sortirati taj red po rejtingu i naci top 10 productId\n",
    "def prec_k(data: np.ndarray, data_predicted: np.ndarray, k: int, treshold: float) -> float:\n",
    "    nb_users, nb_products = data.shape\n",
    "    \n",
    "    top_k_indices = data_predicted.argsort(axis=1)[:, -k:]\n",
    "    real_ratings = np.take_along_axis(data, top_k_indices, axis=1)\n",
    "    nb_good_predictions = (real_ratings >= treshold).sum()\n",
    "    return nb_good_predictions / (nb_users * k)\n",
    "\n",
    "\n"
   ]
  },
  {
   "cell_type": "code",
   "execution_count": 29,
   "metadata": {},
   "outputs": [
    {
     "name": "stdout",
     "output_type": "stream",
     "text": [
      "prec@10 rbmf: 0.68\n",
      "prec@10 random: 0.37\n",
      "prec@10 k_medoid: 0.60\n",
      "prec@10 most_rated: 0.74\n"
     ]
    }
   ],
   "source": [
    "top_k = 10\n",
    "print(f\"prec@{top_k} rbmf: {prec_k(data=data_test, data_predicted=data_predicted.rbmf, k=top_k, treshold=4):.2f}\")\n",
    "print(f\"prec@{top_k} random: {prec_k(data=data_test, data_predicted=data_predicted.random, k=top_k, treshold=4):.2f}\")\n",
    "print(f\"prec@{top_k} k_medoid: {prec_k(data=data_test, data_predicted=data_predicted.k_medoid, k=top_k, treshold=4):.2f}\")\n",
    "print(f\"prec@{top_k} most_rated: {prec_k(data=data_test, data_predicted=data_predicted.most_rated, k=top_k, treshold=4):.2f}\")"
   ]
  },
  {
   "cell_type": "markdown",
   "metadata": {},
   "source": [
    "### MAP (Mean Averege Precision)\n",
    "\n",
    "- podeliti dataset na trening i test (u radu koriscen 80-20 split)\n",
    "- na treningu naci C i X\n",
    "- na testu izdvojiti reprezentativne filmove i predvideti ocene ostalih\n",
    "- sortirati filmove po predvidjenoj oceni\n",
    "- izracunati prosek Prec@i za svako i na kome je zaista dobar film"
   ]
  },
  {
   "cell_type": "code",
   "execution_count": 30,
   "metadata": {},
   "outputs": [],
   "source": [
    "# y_predicted odozgo za ovo koristiti \n",
    "def mean_ap(data: np.ndarray, data_predicted: np.ndarray, treshold: float) -> float:\n",
    "    nb_users, nb_products = data.shape\n",
    "    sorted_indices = (-data_predicted).argsort(axis=1, )\n",
    "    data_sorted = np.take_along_axis(data, sorted_indices, axis=1)\n",
    "    good_movies = data_sorted >= treshold\n",
    "    nb_good_prediction = np.cumsum(good_movies, axis=1)\n",
    "\n",
    "    nb_movies = np.arange(1, nb_products+1)\n",
    "    nb_movies = np.vstack([nb_movies]*nb_users)\n",
    "\n",
    "    precisions = nb_good_prediction / nb_movies\n",
    "\n",
    "    top_part = precisions * good_movies\n",
    "\n",
    "    AP = top_part.sum(axis=1) / good_movies.sum(axis=1)\n",
    "\n",
    "    return np.nansum(AP) / np.count_nonzero(~np.isnan(AP))"
   ]
  },
  {
   "cell_type": "code",
   "execution_count": 31,
   "metadata": {},
   "outputs": [
    {
     "name": "stdout",
     "output_type": "stream",
     "text": [
      "MAP rbmf: 0.39\n",
      "MAP random: 0.23\n",
      "MAP k_medoid: 0.34\n",
      "MAP most_rated: 0.38\n"
     ]
    }
   ],
   "source": [
    "print(f\"MAP rbmf: {mean_ap(data=data_test, data_predicted=data_predicted.rbmf, treshold=4):.2f}\")\n",
    "print(f\"MAP random: {mean_ap(data=data_test, data_predicted=data_predicted.random, treshold=4):.2f}\")\n",
    "print(f\"MAP k_medoid: {mean_ap(data=data_test, data_predicted=data_predicted.k_medoid, treshold=4):.2f}\")\n",
    "print(f\"MAP most_rated: {mean_ap(data=data_test, data_predicted=data_predicted.most_rated, treshold=4):.2f}\")"
   ]
  },
  {
   "cell_type": "markdown",
   "metadata": {},
   "source": [
    "### AUC skor \n",
    "- podeliti dataset na trening i test (u radu koriscen 80-20 split)\n",
    "- na treningu naci C i X\n",
    "- na testu izdvojiti reprezentativne filmove i predvideti ocene ostalih\n",
    "- predvidjanja podeliti na dobre i lose filmove\n",
    "- iskoristiti scikit-learn funkciju za racunanje ove metrike"
   ]
  },
  {
   "cell_type": "code",
   "execution_count": 32,
   "metadata": {},
   "outputs": [],
   "source": [
    "# y_predicted odozgo za ovo koristiti \n",
    "def auc_score(data: np.ndarray, data_predicted: np.ndarray, treshold: float) -> float:\n",
    "    sorted_indices = data_predicted.argsort(axis=1, )\n",
    "    data_sorted = np.take_along_axis(data, sorted_indices, axis=1)\n",
    "    good_movies = data_sorted >= treshold\n",
    "    number_of_good_before = np.cumsum(good_movies, axis=1)\n",
    "    number_of_missordered_pairs = (number_of_good_before * ~good_movies).sum(axis=1)\n",
    "    product_of_numbers = good_movies.sum(axis=1) * (~good_movies).sum(axis=1)\n",
    "    auc = 1 - number_of_missordered_pairs / product_of_numbers\n",
    "\n",
    "    return    np.nansum(auc) / np.count_nonzero(~np.isnan(auc))   \n"
   ]
  },
  {
   "cell_type": "code",
   "execution_count": 33,
   "metadata": {},
   "outputs": [
    {
     "name": "stdout",
     "output_type": "stream",
     "text": [
      "auc rbmf: 0.85\n",
      "auc random: 0.74\n",
      "auc k_medoid: 0.82\n",
      "auc most_rated: 0.83\n"
     ]
    }
   ],
   "source": [
    "print(f\"auc rbmf: {auc_score(data=data_test, data_predicted=data_predicted.rbmf, treshold=4):.2f}\")\n",
    "print(f\"auc random: {auc_score(data=data_test, data_predicted=data_predicted.random, treshold=4):.2f}\")\n",
    "print(f\"auc k_medoid: {auc_score(data=data_test, data_predicted=data_predicted.k_medoid, treshold=4):.2f}\")\n",
    "print(f\"auc most_rated: {auc_score(data=data_test, data_predicted=data_predicted.most_rated, treshold=4):.2f}\")"
   ]
  },
  {
   "cell_type": "code",
   "execution_count": null,
   "metadata": {},
   "outputs": [],
   "source": []
  }
 ],
 "metadata": {
  "kernelspec": {
   "display_name": "Python 3.8.13 ('masinsko')",
   "language": "python",
   "name": "python3"
  },
  "language_info": {
   "codemirror_mode": {
    "name": "ipython",
    "version": 3
   },
   "file_extension": ".py",
   "mimetype": "text/x-python",
   "name": "python",
   "nbconvert_exporter": "python",
   "pygments_lexer": "ipython3",
   "version": "3.8.13"
  },
  "orig_nbformat": 4,
  "vscode": {
   "interpreter": {
    "hash": "b0ffc4e27179d5eae6a973088affba60d7800a47b0293fa0d3dfcbbfaa7fcd95"
   }
  }
 },
 "nbformat": 4,
 "nbformat_minor": 2
}
